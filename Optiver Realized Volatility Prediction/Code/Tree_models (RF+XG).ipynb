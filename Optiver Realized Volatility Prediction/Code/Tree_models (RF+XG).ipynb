{
 "cells": [
  {
   "cell_type": "code",
   "execution_count": null,
   "id": "c4b9dd94",
   "metadata": {
    "execution": {
     "iopub.execute_input": "2025-04-19T11:16:24.979979Z",
     "iopub.status.busy": "2025-04-19T11:16:24.979146Z",
     "iopub.status.idle": "2025-04-19T11:16:24.981680Z",
     "shell.execute_reply": "2025-04-19T11:16:24.981216Z"
    },
    "papermill": {
     "duration": 0.055138,
     "end_time": "2025-04-19T11:16:24.981809",
     "exception": false,
     "start_time": "2025-04-19T11:16:24.926671",
     "status": "completed"
    },
    "tags": []
   },
   "outputs": [],
   "source": [
    "def run_model_cv(model, X, y, X_test, model_name=\"model\", n_splits=5):\n",
    "    kfold = KFold(n_splits=n_splits, shuffle=True, random_state=42)\n",
    "    \n",
    "    oof_preds = np.zeros((X.shape[0], ))\n",
    "    test_preds = np.zeros(X_test.shape[0])\n",
    "    fold_metrics = []\n",
    "\n",
    "    for fold, (trn_idx, val_idx) in enumerate(kfold.split(X)):\n",
    "        print(f\"\\nTraining fold {fold + 1} - {model_name}\")\n",
    "        X_train, X_val = X.iloc[trn_idx], X.iloc[val_idx]\n",
    "        y_train, y_val = y.iloc[trn_idx], y.iloc[val_idx]\n",
    "\n",
    "        model.fit(X_train, y_train)\n",
    "        val_pred = model.predict(X_val)\n",
    "        test_pred = model.predict(X_test)\n",
    "\n",
    "        oof_preds[val_idx] = val_pred\n",
    "        test_preds += test_pred / n_splits\n",
    "\n",
    "        fold_metrics.append({\n",
    "            \"fold\": fold + 1,\n",
    "            \"RMSPE\": rmspe(y_val.values, val_pred),\n",
    "            \"RMSE\": mean_squared_error(y_val.values, val_pred, squared=False),\n",
    "            \"MAE\": mean_absolute_error(y_val.values, val_pred),\n",
    "            \"R2\": r2_score(y_val.values, val_pred)\n",
    "        })\n",
    "\n",
    "        print(f\"Fold {fold+1} - RMSPE: {fold_metrics[-1]['RMSPE']:.6f}, \"\n",
    "              f\"RMSE: {fold_metrics[-1]['RMSE']:.6f}, \"\n",
    "              f\"MAE: {fold_metrics[-1]['MAE']:.6f}, \"\n",
    "              f\"R2: {fold_metrics[-1]['R2']:.4f}\")\n",
    "\n",
    "    # OOF evaluation\n",
    "    print(f\"\\nFinal Evaluation - {model_name}\")\n",
    "    print(f\"RMSPE: {rmspe(y.values, oof_preds):.6f}\")\n",
    "    print(f\"RMSE : {mean_squared_error(y.values, oof_preds, squared=False):.6f}\")\n",
    "    print(f\"MAE  : {mean_absolute_error(y.values, oof_preds):.6f}\")\n",
    "    print(f\"R2   : {r2_score(y.values, oof_preds):.4f}\")\n",
    "\n",
    "    return oof_preds, test_preds, pd.DataFrame(fold_metrics)"
   ]
  },
  {
   "cell_type": "code",
   "execution_count": 15,
   "id": "33a1579c",
   "metadata": {
    "execution": {
     "iopub.execute_input": "2025-04-19T11:16:25.072381Z",
     "iopub.status.busy": "2025-04-19T11:16:25.071894Z",
     "iopub.status.idle": "2025-04-19T15:05:20.581692Z",
     "shell.execute_reply": "2025-04-19T15:05:20.582087Z"
    },
    "papermill": {
     "duration": 13735.55624,
     "end_time": "2025-04-19T15:05:20.582274",
     "exception": false,
     "start_time": "2025-04-19T11:16:25.026034",
     "status": "completed"
    },
    "tags": []
   },
   "outputs": [
    {
     "name": "stdout",
     "output_type": "stream",
     "text": [
      "\n",
      "Training fold 1 - RandomForest\n",
      "Fold 1 - RMSPE: 0.265749, RMSE: 0.001122, MAE: 0.000658, R2: 0.8555\n",
      "\n",
      "Training fold 2 - RandomForest\n",
      "Fold 2 - RMSPE: 0.268869, RMSE: 0.001105, MAE: 0.000663, R2: 0.8555\n",
      "\n",
      "Training fold 3 - RandomForest\n",
      "Fold 3 - RMSPE: 0.272862, RMSE: 0.001106, MAE: 0.000659, R2: 0.8600\n",
      "\n",
      "Training fold 4 - RandomForest\n",
      "Fold 4 - RMSPE: 0.261642, RMSE: 0.001104, MAE: 0.000665, R2: 0.8589\n",
      "\n",
      "Training fold 5 - RandomForest\n",
      "Fold 5 - RMSPE: 0.263645, RMSE: 0.001130, MAE: 0.000662, R2: 0.8510\n",
      "\n",
      "Final Evaluation - RandomForest\n",
      "RMSPE: 0.266583\n",
      "RMSE : 0.001113\n",
      "MAE  : 0.000662\n",
      "R2   : 0.8562\n"
     ]
    }
   ],
   "source": [
    "# Baseline 1: Random Forest\n",
    "rf_model = RandomForestRegressor(\n",
    "    n_estimators=100,\n",
    "    max_depth=10,\n",
    "    random_state=42,\n",
    "    n_jobs=-1\n",
    ")\n",
    "\n",
    "oof_rf, test_rf, rf_metrics = run_model_cv(rf_model, X, y, X_test, model_name=\"RandomForest\")\n"
   ]
  },
  {
   "cell_type": "code",
   "execution_count": 16,
   "id": "67cd8bcb",
   "metadata": {
    "execution": {
     "iopub.execute_input": "2025-04-19T15:05:20.670143Z",
     "iopub.status.busy": "2025-04-19T15:05:20.669668Z",
     "iopub.status.idle": "2025-04-19T15:08:44.815964Z",
     "shell.execute_reply": "2025-04-19T15:08:44.816358Z"
    },
    "papermill": {
     "duration": 204.192438,
     "end_time": "2025-04-19T15:08:44.816531",
     "exception": false,
     "start_time": "2025-04-19T15:05:20.624093",
     "status": "completed"
    },
    "tags": []
   },
   "outputs": [
    {
     "name": "stdout",
     "output_type": "stream",
     "text": [
      "\n",
      "Training fold 1 - XGBoost\n",
      "Fold 1 - RMSPE: 0.258864, RMSE: 0.001064, MAE: 0.000630, R2: 0.8701\n",
      "\n",
      "Training fold 2 - XGBoost\n",
      "Fold 2 - RMSPE: 0.259471, RMSE: 0.001037, MAE: 0.000630, R2: 0.8728\n",
      "\n",
      "Training fold 3 - XGBoost\n",
      "Fold 3 - RMSPE: 0.264711, RMSE: 0.001046, MAE: 0.000630, R2: 0.8748\n",
      "\n",
      "Training fold 4 - XGBoost\n",
      "Fold 4 - RMSPE: 0.252117, RMSE: 0.001042, MAE: 0.000634, R2: 0.8742\n",
      "\n",
      "Training fold 5 - XGBoost\n",
      "Fold 5 - RMSPE: 0.254336, RMSE: 0.001075, MAE: 0.000634, R2: 0.8653\n",
      "\n",
      "Final Evaluation - XGBoost\n",
      "RMSPE: 0.257937\n",
      "RMSE : 0.001053\n",
      "MAE  : 0.000632\n",
      "R2   : 0.8715\n"
     ]
    }
   ],
   "source": [
    "# Baseline 2: XGBoost\n",
    "xgb_model = XGBRegressor(\n",
    "    n_estimators=100,\n",
    "    max_depth=6,\n",
    "    learning_rate=0.1,\n",
    "    subsample=0.8,\n",
    "    colsample_bytree=0.8,\n",
    "    random_state=42,\n",
    "    tree_method='hist',\n",
    "    n_jobs=-1\n",
    ")\n",
    "\n",
    "oof_xgb, test_xgb, xgb_metrics = run_model_cv(xgb_model, X, y, X_test, model_name=\"XGBoost\")"
   ]
  }
 ],
 "metadata": {
  "kaggle": {
   "accelerator": "gpu",
   "dataSources": [
    {
     "databundleVersionId": 2344753,
     "sourceId": 27233,
     "sourceType": "competition"
    },
    {
     "datasetId": 1554453,
     "sourceId": 2561708,
     "sourceType": "datasetVersion"
    },
    {
     "datasetId": 921302,
     "sourceId": 7453542,
     "sourceType": "datasetVersion"
    }
   ],
   "dockerImageVersionId": 30121,
   "isGpuEnabled": true,
   "isInternetEnabled": false,
   "language": "python",
   "sourceType": "notebook"
  },
  "kernelspec": {
   "display_name": "Python 3",
   "language": "python",
   "name": "python3"
  },
  "language_info": {
   "codemirror_mode": {
    "name": "ipython",
    "version": 3
   },
   "file_extension": ".py",
   "mimetype": "text/x-python",
   "name": "python",
   "nbconvert_exporter": "python",
   "pygments_lexer": "ipython3",
   "version": "3.7.10"
  },
  "papermill": {
   "default_parameters": {},
   "duration": 21362.471693,
   "end_time": "2025-04-19T15:08:48.568452",
   "environment_variables": {},
   "exception": true,
   "input_path": "__notebook__.ipynb",
   "output_path": "__notebook__.ipynb",
   "parameters": {},
   "start_time": "2025-04-19T09:12:46.096759",
   "version": "2.3.3"
  }
 },
 "nbformat": 4,
 "nbformat_minor": 5
}
